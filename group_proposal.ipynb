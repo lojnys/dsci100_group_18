{
 "cells": [
  {
   "cell_type": "code",
   "execution_count": 9,
   "id": "1780caa3",
   "metadata": {},
   "outputs": [],
   "source": [
    "library(tidyverse)\n",
    "library(readxl)"
   ]
  },
  {
   "cell_type": "markdown",
   "id": "30943ed0",
   "metadata": {},
   "source": [
    "## User Knowledge Dataset\n",
    "\n",
    "* STG: The degree of study time for goal object materails\n",
    "* SCG: The degree of repetition number of user for goal object materails\n",
    "* STR: The degree of study time of user for related objects with goal object\n",
    "* LPR: The exam performance of user for related objects with goal object\n",
    "* PEG: The exam performance of user for goal objects\n",
    "* UNS: The knowledge level of user"
   ]
  },
  {
   "cell_type": "code",
   "execution_count": 20,
   "id": "ad540753",
   "metadata": {},
   "outputs": [
    {
     "data": {
      "text/html": [
       "<table class=\"dataframe\">\n",
       "<caption>A tibble: 6 × 6</caption>\n",
       "<thead>\n",
       "\t<tr><th scope=col>STG</th><th scope=col>SCG</th><th scope=col>STR</th><th scope=col>LPR</th><th scope=col>PEG</th><th scope=col>UNS</th></tr>\n",
       "\t<tr><th scope=col>&lt;dbl&gt;</th><th scope=col>&lt;dbl&gt;</th><th scope=col>&lt;dbl&gt;</th><th scope=col>&lt;dbl&gt;</th><th scope=col>&lt;dbl&gt;</th><th scope=col>&lt;chr&gt;</th></tr>\n",
       "</thead>\n",
       "<tbody>\n",
       "\t<tr><td>0.00</td><td>0.00</td><td>0.00</td><td>0.00</td><td>0.00</td><td>very_low</td></tr>\n",
       "\t<tr><td>0.08</td><td>0.08</td><td>0.10</td><td>0.24</td><td>0.90</td><td>High    </td></tr>\n",
       "\t<tr><td>0.06</td><td>0.06</td><td>0.05</td><td>0.25</td><td>0.33</td><td>Low     </td></tr>\n",
       "\t<tr><td>0.10</td><td>0.10</td><td>0.15</td><td>0.65</td><td>0.30</td><td>Middle  </td></tr>\n",
       "\t<tr><td>0.08</td><td>0.08</td><td>0.08</td><td>0.98</td><td>0.24</td><td>Low     </td></tr>\n",
       "\t<tr><td>0.09</td><td>0.15</td><td>0.40</td><td>0.10</td><td>0.66</td><td>Middle  </td></tr>\n",
       "</tbody>\n",
       "</table>\n"
      ],
      "text/latex": [
       "A tibble: 6 × 6\n",
       "\\begin{tabular}{llllll}\n",
       " STG & SCG & STR & LPR & PEG & UNS\\\\\n",
       " <dbl> & <dbl> & <dbl> & <dbl> & <dbl> & <chr>\\\\\n",
       "\\hline\n",
       "\t 0.00 & 0.00 & 0.00 & 0.00 & 0.00 & very\\_low\\\\\n",
       "\t 0.08 & 0.08 & 0.10 & 0.24 & 0.90 & High    \\\\\n",
       "\t 0.06 & 0.06 & 0.05 & 0.25 & 0.33 & Low     \\\\\n",
       "\t 0.10 & 0.10 & 0.15 & 0.65 & 0.30 & Middle  \\\\\n",
       "\t 0.08 & 0.08 & 0.08 & 0.98 & 0.24 & Low     \\\\\n",
       "\t 0.09 & 0.15 & 0.40 & 0.10 & 0.66 & Middle  \\\\\n",
       "\\end{tabular}\n"
      ],
      "text/markdown": [
       "\n",
       "A tibble: 6 × 6\n",
       "\n",
       "| STG &lt;dbl&gt; | SCG &lt;dbl&gt; | STR &lt;dbl&gt; | LPR &lt;dbl&gt; | PEG &lt;dbl&gt; | UNS &lt;chr&gt; |\n",
       "|---|---|---|---|---|---|\n",
       "| 0.00 | 0.00 | 0.00 | 0.00 | 0.00 | very_low |\n",
       "| 0.08 | 0.08 | 0.10 | 0.24 | 0.90 | High     |\n",
       "| 0.06 | 0.06 | 0.05 | 0.25 | 0.33 | Low      |\n",
       "| 0.10 | 0.10 | 0.15 | 0.65 | 0.30 | Middle   |\n",
       "| 0.08 | 0.08 | 0.08 | 0.98 | 0.24 | Low      |\n",
       "| 0.09 | 0.15 | 0.40 | 0.10 | 0.66 | Middle   |\n",
       "\n"
      ],
      "text/plain": [
       "  STG  SCG  STR  LPR  PEG  UNS     \n",
       "1 0.00 0.00 0.00 0.00 0.00 very_low\n",
       "2 0.08 0.08 0.10 0.24 0.90 High    \n",
       "3 0.06 0.06 0.05 0.25 0.33 Low     \n",
       "4 0.10 0.10 0.15 0.65 0.30 Middle  \n",
       "5 0.08 0.08 0.08 0.98 0.24 Low     \n",
       "6 0.09 0.15 0.40 0.10 0.66 Middle  "
      ]
     },
     "metadata": {},
     "output_type": "display_data"
    }
   ],
   "source": [
    "data = read_excel(\"data/user_knowledge.xls\", sheet = \"Training_Data\", range = \"A1:F259\")\n",
    "head(data)"
   ]
  },
  {
   "cell_type": "code",
   "execution_count": 21,
   "id": "355e8cbc",
   "metadata": {},
   "outputs": [
    {
     "data": {
      "text/html": [
       "<table class=\"dataframe\">\n",
       "<caption>A tibble: 6 × 3</caption>\n",
       "<thead>\n",
       "\t<tr><th scope=col>study_time</th><th scope=col>repetition</th><th scope=col>knowledge_level</th></tr>\n",
       "\t<tr><th scope=col>&lt;dbl&gt;</th><th scope=col>&lt;dbl&gt;</th><th scope=col>&lt;chr&gt;</th></tr>\n",
       "</thead>\n",
       "<tbody>\n",
       "\t<tr><td>0.00</td><td>0.00</td><td>very_low</td></tr>\n",
       "\t<tr><td>0.08</td><td>0.08</td><td>High    </td></tr>\n",
       "\t<tr><td>0.06</td><td>0.06</td><td>Low     </td></tr>\n",
       "\t<tr><td>0.10</td><td>0.10</td><td>Middle  </td></tr>\n",
       "\t<tr><td>0.08</td><td>0.08</td><td>Low     </td></tr>\n",
       "\t<tr><td>0.09</td><td>0.15</td><td>Middle  </td></tr>\n",
       "</tbody>\n",
       "</table>\n"
      ],
      "text/latex": [
       "A tibble: 6 × 3\n",
       "\\begin{tabular}{lll}\n",
       " study\\_time & repetition & knowledge\\_level\\\\\n",
       " <dbl> & <dbl> & <chr>\\\\\n",
       "\\hline\n",
       "\t 0.00 & 0.00 & very\\_low\\\\\n",
       "\t 0.08 & 0.08 & High    \\\\\n",
       "\t 0.06 & 0.06 & Low     \\\\\n",
       "\t 0.10 & 0.10 & Middle  \\\\\n",
       "\t 0.08 & 0.08 & Low     \\\\\n",
       "\t 0.09 & 0.15 & Middle  \\\\\n",
       "\\end{tabular}\n"
      ],
      "text/markdown": [
       "\n",
       "A tibble: 6 × 3\n",
       "\n",
       "| study_time &lt;dbl&gt; | repetition &lt;dbl&gt; | knowledge_level &lt;chr&gt; |\n",
       "|---|---|---|\n",
       "| 0.00 | 0.00 | very_low |\n",
       "| 0.08 | 0.08 | High     |\n",
       "| 0.06 | 0.06 | Low      |\n",
       "| 0.10 | 0.10 | Middle   |\n",
       "| 0.08 | 0.08 | Low      |\n",
       "| 0.09 | 0.15 | Middle   |\n",
       "\n"
      ],
      "text/plain": [
       "  study_time repetition knowledge_level\n",
       "1 0.00       0.00       very_low       \n",
       "2 0.08       0.08       High           \n",
       "3 0.06       0.06       Low            \n",
       "4 0.10       0.10       Middle         \n",
       "5 0.08       0.08       Low            \n",
       "6 0.09       0.15       Middle         "
      ]
     },
     "metadata": {},
     "output_type": "display_data"
    }
   ],
   "source": [
    "data_wrangled <- data |>\n",
    "select(STG, SCG, UNS) |>\n",
    "rename(study_time = STG, repetition = SCG, knowledge_level = UNS)\n",
    "\n",
    "head(data_wrangled)"
   ]
  },
  {
   "cell_type": "code",
   "execution_count": null,
   "id": "5745f9c1",
   "metadata": {},
   "outputs": [],
   "source": []
  }
 ],
 "metadata": {
  "kernelspec": {
   "display_name": "R",
   "language": "R",
   "name": "ir"
  },
  "language_info": {
   "codemirror_mode": "r",
   "file_extension": ".r",
   "mimetype": "text/x-r-source",
   "name": "R",
   "pygments_lexer": "r",
   "version": "4.3.1"
  }
 },
 "nbformat": 4,
 "nbformat_minor": 5
}
